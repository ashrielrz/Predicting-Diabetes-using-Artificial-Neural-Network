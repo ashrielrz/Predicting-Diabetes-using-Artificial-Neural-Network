{
 "cells": [
  {
   "cell_type": "markdown",
   "id": "b0036393",
   "metadata": {},
   "source": [
    "# Predicting Diabets using 1 Neuron Artificial Neural Network \n",
    "\n",
    "\n",
    "We are going to build a solution ANN model with only 1 Neuron:  \n"
   ]
  },
  {
   "cell_type": "markdown",
   "id": "161a6eaa",
   "metadata": {},
   "source": [
    "##### Our 8 Inputs are: Pregnancies\tGlucose\tBloodPressure\tSkinThickness\tInsulin\tBMI\tDiabetesPedigreeFunction\tAge\n",
    "We will use Prima Indians Dataset from Kaggle.\n",
    "You can download dataset from Kaggle: https://www.kaggle.com/uciml/pima-indians-diabetes-database\n",
    "\n"
   ]
  },
  {
   "cell_type": "code",
   "execution_count": null,
   "id": "ddaf2ca0",
   "metadata": {},
   "outputs": [],
   "source": [
    "# We start by importing our modules.\n",
    "import numpy as np\n",
    "from tensorflow import keras\n",
    "import pandas as pd\n",
    "from sklearn.preprocessing import StandardScaler\n",
    "from sklearn.model_selection import train_test_split\n",
    "\n"
   ]
  },
  {
   "cell_type": "code",
   "execution_count": null,
   "id": "9ab40473",
   "metadata": {},
   "outputs": [],
   "source": [
    "# Outcome = 1 Has Diabetes\n",
    "# Outcome = 0 Healthy\n",
    "# You can download dataset from Kaggle: https://www.kaggle.com/uciml/pima-indians-diabetes-database\n",
    "\n",
    "df = pd.read_csv(\"diabetes.csv\")\n",
    "df.head()\n"
   ]
  },
  {
   "cell_type": "markdown",
   "id": "396968c0",
   "metadata": {},
   "source": [
    "### Train/test split"
   ]
  },
  {
   "cell_type": "code",
   "execution_count": null,
   "id": "e063c387",
   "metadata": {},
   "outputs": [],
   "source": [
    "X_train, X_test, y_train, y_test = train_test_split(df[['Pregnancies','Glucose','BloodPressure','SkinThickness','Insulin','BMI','DiabetesPedigreeFunction', 'Age']],df.Outcome,test_size=0.2, random_state=25)"
   ]
  },
  {
   "cell_type": "code",
   "execution_count": null,
   "id": "cd792d15",
   "metadata": {},
   "outputs": [],
   "source": [
    "#Standard normalization\n",
    "X_train_scaled = X_train.copy()\n",
    "X_train_scaled = StandardScaler().fit_transform(X_train_scaled)\n",
    "\n",
    "X_test_scaled = X_test.copy()\n",
    "X_test_scaled = StandardScaler().fit_transform(X_test_scaled)\n",
    "\n",
    "\n"
   ]
  },
  {
   "cell_type": "markdown",
   "id": "46b2a3b8",
   "metadata": {},
   "source": [
    "### We are building the model with only 1 neuron!"
   ]
  },
  {
   "cell_type": "code",
   "execution_count": null,
   "id": "ee4f827f",
   "metadata": {},
   "outputs": [],
   "source": [
    "# We are building the model with only 1 neuron!\n",
    "model = keras.Sequential([\n",
    "    keras.layers.Dense(1, input_shape=(8,), activation='sigmoid', kernel_initializer='ones', bias_initializer='zeros')\n",
    "])\n",
    "\n",
    "model.compile(optimizer='adam',\n",
    "              loss='binary_crossentropy',\n",
    "              metrics=['accuracy'])\n",
    "\n",
    "model.fit(X_train_scaled, y_train, epochs=1000)\n",
    "\n",
    "\n",
    "\n"
   ]
  },
  {
   "cell_type": "markdown",
   "id": "dc15becb",
   "metadata": {},
   "source": [
    "### Lets look at the accuracy of our model:"
   ]
  },
  {
   "cell_type": "code",
   "execution_count": null,
   "id": "57214248",
   "metadata": {},
   "outputs": [],
   "source": [
    "model.evaluate(X_test_scaled,y_test)"
   ]
  },
  {
   "cell_type": "code",
   "execution_count": null,
   "id": "f30e90c2",
   "metadata": {},
   "outputs": [],
   "source": [
    "y_test"
   ]
  },
  {
   "cell_type": "code",
   "execution_count": null,
   "id": "7f2801f5",
   "metadata": {},
   "outputs": [],
   "source": [
    "model.predict(X_test_scaled)"
   ]
  },
  {
   "cell_type": "markdown",
   "id": "3a8a3fdc",
   "metadata": {},
   "source": [
    "Lets get the coefficients of our model: (w1, w2, ... w8 and bias)"
   ]
  },
  {
   "cell_type": "code",
   "execution_count": null,
   "id": "527630f4",
   "metadata": {},
   "outputs": [],
   "source": [
    "coef, intercept = model.get_weights()"
   ]
  },
  {
   "cell_type": "code",
   "execution_count": null,
   "id": "aef7e3a6",
   "metadata": {},
   "outputs": [],
   "source": [
    "print(coef, intercept)"
   ]
  },
  {
   "cell_type": "markdown",
   "id": "7b50e460",
   "metadata": {},
   "source": [
    "That's all for simple 1 neuron neural network!"
   ]
  },
  {
   "cell_type": "code",
   "execution_count": null,
   "id": "02cfa701",
   "metadata": {},
   "outputs": [],
   "source": []
  },
  {
   "cell_type": "code",
   "execution_count": null,
   "id": "b507e305",
   "metadata": {},
   "outputs": [],
   "source": []
  },
  {
   "cell_type": "code",
   "execution_count": null,
   "id": "1824da1e",
   "metadata": {},
   "outputs": [],
   "source": []
  },
  {
   "cell_type": "code",
   "execution_count": null,
   "id": "5d4f9f7a",
   "metadata": {},
   "outputs": [],
   "source": []
  },
  {
   "cell_type": "code",
   "execution_count": null,
   "id": "c84516bd",
   "metadata": {},
   "outputs": [],
   "source": []
  }
 ],
 "metadata": {
  "kernelspec": {
   "display_name": "Python 3",
   "language": "python",
   "name": "python3"
  },
  "language_info": {
   "codemirror_mode": {
    "name": "ipython",
    "version": 3
   },
   "file_extension": ".py",
   "mimetype": "text/x-python",
   "name": "python",
   "nbconvert_exporter": "python",
   "pygments_lexer": "ipython3",
   "version": "3.8.8"
  }
 },
 "nbformat": 4,
 "nbformat_minor": 5
}
